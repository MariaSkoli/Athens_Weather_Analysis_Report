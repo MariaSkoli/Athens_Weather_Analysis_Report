{
 "cells": [
  {
   "cell_type": "markdown",
   "id": "e192a08d",
   "metadata": {},
   "source": [
    "# ATHENS WEATHER ANALYSIS REPORT\n",
    "### Assignment I - Analytics Practicum I\n",
    "\n",
    "> Professor: Panos Louridas. <br />\n",
    "> Student: Skoli Maria <br />\n",
    "> AM: p2822131"
   ]
  },
  {
   "cell_type": "markdown",
   "id": "e124766f",
   "metadata": {},
   "source": [
    "  "
   ]
  },
  {
   "cell_type": "markdown",
   "id": "6e0e6f9d",
   "metadata": {},
   "source": [
    "In this assignment we will explore the weather in Athens for the period 1955-2020. \n",
    "For this analysis we used the data downloaded from the National Oceanic and Atmospheric Administration's National Centers for Environmental Information (main_dataset). However, this dataset contains missing data and therefore we used an extra dataset from Hellenic services which cover the period from 2010-2019 (support_dataset). \n",
    "\n",
    "The aim of this assignment is to examine and visualize the following. First we will examine the deviation of Summer Temperatures. Then we will see the evolution of daily temperatures among years. Afterwards, we will examine the extreme temperature events among the period 1955-2020. At the end, we will examine the volume of precipitation over years.\n"
   ]
  },
  {
   "cell_type": "markdown",
   "id": "cc3c4550",
   "metadata": {},
   "source": [
    "# 1. Obtain the Data"
   ]
  },
  {
   "cell_type": "code",
   "execution_count": 1,
   "id": "a632e7cb",
   "metadata": {},
   "outputs": [],
   "source": [
    "#First we import the essential libraries for this project\n",
    "\n",
    "import pandas as pd\n",
    "import numpy as np \n",
    "\n",
    "import matplotlib.pyplot as plt\n",
    "\n",
    "import matplotlib\n",
    "\n",
    "from collections import defaultdict\n",
    "\n",
    "%matplotlib inline\n",
    "\n",
    "matplotlib.style.use('ggplot')\n",
    "\n",
    "pd.set_option(\"display.max_columns\", None)\n",
    "\n",
    "import matplotlib.pyplot as plt\n",
    "\n",
    "import seaborn as sns"
   ]
  },
  {
   "cell_type": "code",
   "execution_count": 2,
   "id": "dfdc4d97",
   "metadata": {},
   "outputs": [],
   "source": [
    "#Import the main dataset and the support dataset to fill the values with NAs\n",
    "\n",
    "main_dataset=\"./MyData.csv\"\n",
    "support_dataset=\"./athens.csv\""
   ]
  },
  {
   "cell_type": "markdown",
   "id": "afde36f9",
   "metadata": {},
   "source": [
    "Below we can see a small view of our data. We can assume that the Temperatures are in Celsius. "
   ]
  },
  {
   "cell_type": "code",
   "execution_count": 3,
   "id": "ed6397fd",
   "metadata": {},
   "outputs": [
    {
     "data": {
      "text/html": [
       "<div>\n",
       "<style scoped>\n",
       "    .dataframe tbody tr th:only-of-type {\n",
       "        vertical-align: middle;\n",
       "    }\n",
       "\n",
       "    .dataframe tbody tr th {\n",
       "        vertical-align: top;\n",
       "    }\n",
       "\n",
       "    .dataframe thead th {\n",
       "        text-align: right;\n",
       "    }\n",
       "</style>\n",
       "<table border=\"1\" class=\"dataframe\">\n",
       "  <thead>\n",
       "    <tr style=\"text-align: right;\">\n",
       "      <th></th>\n",
       "      <th>PRCP</th>\n",
       "      <th>TAVG</th>\n",
       "    </tr>\n",
       "  </thead>\n",
       "  <tbody>\n",
       "    <tr>\n",
       "      <th>count</th>\n",
       "      <td>22773.000000</td>\n",
       "      <td>20940.000000</td>\n",
       "    </tr>\n",
       "    <tr>\n",
       "      <th>mean</th>\n",
       "      <td>1.011316</td>\n",
       "      <td>18.273873</td>\n",
       "    </tr>\n",
       "    <tr>\n",
       "      <th>std</th>\n",
       "      <td>4.633756</td>\n",
       "      <td>6.926203</td>\n",
       "    </tr>\n",
       "    <tr>\n",
       "      <th>min</th>\n",
       "      <td>0.000000</td>\n",
       "      <td>-2.000000</td>\n",
       "    </tr>\n",
       "    <tr>\n",
       "      <th>25%</th>\n",
       "      <td>0.000000</td>\n",
       "      <td>12.700000</td>\n",
       "    </tr>\n",
       "    <tr>\n",
       "      <th>50%</th>\n",
       "      <td>0.000000</td>\n",
       "      <td>17.700000</td>\n",
       "    </tr>\n",
       "    <tr>\n",
       "      <th>75%</th>\n",
       "      <td>0.000000</td>\n",
       "      <td>24.300000</td>\n",
       "    </tr>\n",
       "    <tr>\n",
       "      <th>max</th>\n",
       "      <td>142.000000</td>\n",
       "      <td>34.800000</td>\n",
       "    </tr>\n",
       "  </tbody>\n",
       "</table>\n",
       "</div>"
      ],
      "text/plain": [
       "               PRCP          TAVG\n",
       "count  22773.000000  20940.000000\n",
       "mean       1.011316     18.273873\n",
       "std        4.633756      6.926203\n",
       "min        0.000000     -2.000000\n",
       "25%        0.000000     12.700000\n",
       "50%        0.000000     17.700000\n",
       "75%        0.000000     24.300000\n",
       "max      142.000000     34.800000"
      ]
     },
     "execution_count": 3,
     "metadata": {},
     "output_type": "execute_result"
    }
   ],
   "source": [
    "#Reading the first dataset \n",
    "Data=pd.read_csv(main_dataset)\n",
    "#Some descriptives \n",
    "Data.describe()"
   ]
  },
  {
   "cell_type": "code",
   "execution_count": 4,
   "id": "cb9d6348",
   "metadata": {},
   "outputs": [
    {
     "data": {
      "text/html": [
       "<div>\n",
       "<style scoped>\n",
       "    .dataframe tbody tr th:only-of-type {\n",
       "        vertical-align: middle;\n",
       "    }\n",
       "\n",
       "    .dataframe tbody tr th {\n",
       "        vertical-align: top;\n",
       "    }\n",
       "\n",
       "    .dataframe thead th {\n",
       "        text-align: right;\n",
       "    }\n",
       "</style>\n",
       "<table border=\"1\" class=\"dataframe\">\n",
       "  <thead>\n",
       "    <tr style=\"text-align: right;\">\n",
       "      <th></th>\n",
       "      <th>DATE</th>\n",
       "      <th>TAVG</th>\n",
       "      <th>TMAX</th>\n",
       "      <th>TMIN</th>\n",
       "      <th>HAVG</th>\n",
       "      <th>HMAX</th>\n",
       "      <th>HMIN</th>\n",
       "      <th>PAVG</th>\n",
       "      <th>PMAX</th>\n",
       "      <th>PMIN</th>\n",
       "      <th>DAILY RAINFALL</th>\n",
       "      <th>WMEAN</th>\n",
       "      <th>WDIRECTION</th>\n",
       "      <th>WGUST</th>\n",
       "      <th>Unnamed: 14</th>\n",
       "      <th>Unnamed: 15</th>\n",
       "    </tr>\n",
       "  </thead>\n",
       "  <tbody>\n",
       "    <tr>\n",
       "      <th>0</th>\n",
       "      <td>2010-01-01</td>\n",
       "      <td>17.9</td>\n",
       "      <td>18.1</td>\n",
       "      <td>17.8</td>\n",
       "      <td>61.4</td>\n",
       "      <td>91</td>\n",
       "      <td>33</td>\n",
       "      <td>1003.6</td>\n",
       "      <td>1006.3</td>\n",
       "      <td>1002.0</td>\n",
       "      <td>0.2</td>\n",
       "      <td>4.0</td>\n",
       "      <td>WSW</td>\n",
       "      <td>12.7</td>\n",
       "      <td>NaN</td>\n",
       "      <td>NaN</td>\n",
       "    </tr>\n",
       "    <tr>\n",
       "      <th>1</th>\n",
       "      <td>2010-01-02</td>\n",
       "      <td>15.6</td>\n",
       "      <td>15.7</td>\n",
       "      <td>15.5</td>\n",
       "      <td>57.4</td>\n",
       "      <td>70</td>\n",
       "      <td>45</td>\n",
       "      <td>1005.2</td>\n",
       "      <td>1008.7</td>\n",
       "      <td>1001.5</td>\n",
       "      <td>0.0</td>\n",
       "      <td>6.8</td>\n",
       "      <td>WSW</td>\n",
       "      <td>20.7</td>\n",
       "      <td>NaN</td>\n",
       "      <td>NaN</td>\n",
       "    </tr>\n",
       "    <tr>\n",
       "      <th>2</th>\n",
       "      <td>2010-01-03</td>\n",
       "      <td>13.5</td>\n",
       "      <td>13.6</td>\n",
       "      <td>13.4</td>\n",
       "      <td>56.0</td>\n",
       "      <td>76</td>\n",
       "      <td>39</td>\n",
       "      <td>1011.7</td>\n",
       "      <td>1016.7</td>\n",
       "      <td>1008.6</td>\n",
       "      <td>0.0</td>\n",
       "      <td>5.0</td>\n",
       "      <td>WSW</td>\n",
       "      <td>15.4</td>\n",
       "      <td>NaN</td>\n",
       "      <td>NaN</td>\n",
       "    </tr>\n",
       "    <tr>\n",
       "      <th>3</th>\n",
       "      <td>2010-01-04</td>\n",
       "      <td>9.5</td>\n",
       "      <td>9.6</td>\n",
       "      <td>9.5</td>\n",
       "      <td>50.7</td>\n",
       "      <td>60</td>\n",
       "      <td>38</td>\n",
       "      <td>1021.3</td>\n",
       "      <td>1023.1</td>\n",
       "      <td>1016.8</td>\n",
       "      <td>0.0</td>\n",
       "      <td>4.3</td>\n",
       "      <td>NNE</td>\n",
       "      <td>11.0</td>\n",
       "      <td>NaN</td>\n",
       "      <td>NaN</td>\n",
       "    </tr>\n",
       "    <tr>\n",
       "      <th>4</th>\n",
       "      <td>2010-01-05</td>\n",
       "      <td>13.4</td>\n",
       "      <td>13.5</td>\n",
       "      <td>13.4</td>\n",
       "      <td>70.5</td>\n",
       "      <td>82</td>\n",
       "      <td>54</td>\n",
       "      <td>1018.7</td>\n",
       "      <td>1022.1</td>\n",
       "      <td>1015.5</td>\n",
       "      <td>0.0</td>\n",
       "      <td>7.9</td>\n",
       "      <td>S</td>\n",
       "      <td>19.8</td>\n",
       "      <td>NaN</td>\n",
       "      <td>NaN</td>\n",
       "    </tr>\n",
       "    <tr>\n",
       "      <th>...</th>\n",
       "      <td>...</td>\n",
       "      <td>...</td>\n",
       "      <td>...</td>\n",
       "      <td>...</td>\n",
       "      <td>...</td>\n",
       "      <td>...</td>\n",
       "      <td>...</td>\n",
       "      <td>...</td>\n",
       "      <td>...</td>\n",
       "      <td>...</td>\n",
       "      <td>...</td>\n",
       "      <td>...</td>\n",
       "      <td>...</td>\n",
       "      <td>...</td>\n",
       "      <td>...</td>\n",
       "      <td>...</td>\n",
       "    </tr>\n",
       "    <tr>\n",
       "      <th>3647</th>\n",
       "      <td>2019-12-27</td>\n",
       "      <td>10.1</td>\n",
       "      <td>10.2</td>\n",
       "      <td>10</td>\n",
       "      <td>60.3</td>\n",
       "      <td>79</td>\n",
       "      <td>44</td>\n",
       "      <td>1018.4</td>\n",
       "      <td>1019.9</td>\n",
       "      <td>1016.8</td>\n",
       "      <td>0.0</td>\n",
       "      <td>2.9</td>\n",
       "      <td>NE</td>\n",
       "      <td>8.0</td>\n",
       "      <td>NaN</td>\n",
       "      <td>NaN</td>\n",
       "    </tr>\n",
       "    <tr>\n",
       "      <th>3648</th>\n",
       "      <td>2019-12-28</td>\n",
       "      <td>8.3</td>\n",
       "      <td>8.4</td>\n",
       "      <td>8.2</td>\n",
       "      <td>60.9</td>\n",
       "      <td>82</td>\n",
       "      <td>46</td>\n",
       "      <td>1016.0</td>\n",
       "      <td>1017.2</td>\n",
       "      <td>1014.2</td>\n",
       "      <td>7.2</td>\n",
       "      <td>4.3</td>\n",
       "      <td>NE</td>\n",
       "      <td>12.8</td>\n",
       "      <td>NaN</td>\n",
       "      <td>NaN</td>\n",
       "    </tr>\n",
       "    <tr>\n",
       "      <th>3649</th>\n",
       "      <td>2019-12-29</td>\n",
       "      <td>6.4</td>\n",
       "      <td>6.5</td>\n",
       "      <td>6.4</td>\n",
       "      <td>73.4</td>\n",
       "      <td>82</td>\n",
       "      <td>66</td>\n",
       "      <td>1017.6</td>\n",
       "      <td>1018.9</td>\n",
       "      <td>1016.5</td>\n",
       "      <td>3.4</td>\n",
       "      <td>10.6</td>\n",
       "      <td>NNE</td>\n",
       "      <td>24.5</td>\n",
       "      <td>NaN</td>\n",
       "      <td>NaN</td>\n",
       "    </tr>\n",
       "    <tr>\n",
       "      <th>3650</th>\n",
       "      <td>2019-12-30</td>\n",
       "      <td>4</td>\n",
       "      <td>4</td>\n",
       "      <td>3.9</td>\n",
       "      <td>83.9</td>\n",
       "      <td>90</td>\n",
       "      <td>65</td>\n",
       "      <td>1020.0</td>\n",
       "      <td>1024.2</td>\n",
       "      <td>1016.6</td>\n",
       "      <td>12.4</td>\n",
       "      <td>5.1</td>\n",
       "      <td>NE</td>\n",
       "      <td>15.0</td>\n",
       "      <td>NaN</td>\n",
       "      <td>NaN</td>\n",
       "    </tr>\n",
       "    <tr>\n",
       "      <th>3651</th>\n",
       "      <td>2019-12-31</td>\n",
       "      <td>6.4</td>\n",
       "      <td>6.5</td>\n",
       "      <td>6.3</td>\n",
       "      <td>72.3</td>\n",
       "      <td>86</td>\n",
       "      <td>58</td>\n",
       "      <td>1025.4</td>\n",
       "      <td>1026.7</td>\n",
       "      <td>1023.9</td>\n",
       "      <td>0.0</td>\n",
       "      <td>2.7</td>\n",
       "      <td>W</td>\n",
       "      <td>9.4</td>\n",
       "      <td>NaN</td>\n",
       "      <td>NaN</td>\n",
       "    </tr>\n",
       "  </tbody>\n",
       "</table>\n",
       "<p>3652 rows × 16 columns</p>\n",
       "</div>"
      ],
      "text/plain": [
       "            DATE  TAVG  TMAX  TMIN  HAVG  HMAX  HMIN    PAVG    PMAX    PMIN  \\\n",
       "0     2010-01-01  17.9  18.1  17.8  61.4    91    33  1003.6  1006.3  1002.0   \n",
       "1     2010-01-02  15.6  15.7  15.5  57.4    70    45  1005.2  1008.7  1001.5   \n",
       "2     2010-01-03  13.5  13.6  13.4  56.0    76    39  1011.7  1016.7  1008.6   \n",
       "3     2010-01-04   9.5   9.6   9.5  50.7    60    38  1021.3  1023.1  1016.8   \n",
       "4     2010-01-05  13.4  13.5  13.4  70.5    82    54  1018.7  1022.1  1015.5   \n",
       "...          ...   ...   ...   ...   ...   ...   ...     ...     ...     ...   \n",
       "3647  2019-12-27  10.1  10.2    10  60.3    79    44  1018.4  1019.9  1016.8   \n",
       "3648  2019-12-28   8.3   8.4   8.2  60.9    82    46  1016.0  1017.2  1014.2   \n",
       "3649  2019-12-29   6.4   6.5   6.4  73.4    82    66  1017.6  1018.9  1016.5   \n",
       "3650  2019-12-30     4     4   3.9  83.9    90    65  1020.0  1024.2  1016.6   \n",
       "3651  2019-12-31   6.4   6.5   6.3  72.3    86    58  1025.4  1026.7  1023.9   \n",
       "\n",
       "      DAILY RAINFALL  WMEAN WDIRECTION  WGUST  Unnamed: 14  Unnamed: 15  \n",
       "0                0.2    4.0        WSW   12.7          NaN          NaN  \n",
       "1                0.0    6.8        WSW   20.7          NaN          NaN  \n",
       "2                0.0    5.0        WSW   15.4          NaN          NaN  \n",
       "3                0.0    4.3        NNE   11.0          NaN          NaN  \n",
       "4                0.0    7.9          S   19.8          NaN          NaN  \n",
       "...              ...    ...        ...    ...          ...          ...  \n",
       "3647             0.0    2.9         NE    8.0          NaN          NaN  \n",
       "3648             7.2    4.3         NE   12.8          NaN          NaN  \n",
       "3649             3.4   10.6        NNE   24.5          NaN          NaN  \n",
       "3650            12.4    5.1         NE   15.0          NaN          NaN  \n",
       "3651             0.0    2.7          W    9.4          NaN          NaN  \n",
       "\n",
       "[3652 rows x 16 columns]"
      ]
     },
     "execution_count": 4,
     "metadata": {},
     "output_type": "execute_result"
    }
   ],
   "source": [
    "#Reading the extra dataset\n",
    "Extra=pd.read_csv(support_dataset)\n",
    "Extra\n"
   ]
  },
  {
   "cell_type": "code",
   "execution_count": 5,
   "id": "cb8d50bc",
   "metadata": {},
   "outputs": [
    {
     "data": {
      "text/plain": [
       "DATE               object\n",
       "TAVG               object\n",
       "TMAX               object\n",
       "TMIN               object\n",
       "HAVG              float64\n",
       "HMAX                int64\n",
       "HMIN                int64\n",
       "PAVG              float64\n",
       "PMAX              float64\n",
       "PMIN              float64\n",
       "DAILY RAINFALL    float64\n",
       "WMEAN             float64\n",
       "WDIRECTION         object\n",
       "WGUST             float64\n",
       "Unnamed: 14       float64\n",
       "Unnamed: 15       float64\n",
       "dtype: object"
      ]
     },
     "execution_count": 5,
     "metadata": {},
     "output_type": "execute_result"
    }
   ],
   "source": [
    "Extra.dtypes"
   ]
  },
  {
   "cell_type": "markdown",
   "id": "d6ee58ee",
   "metadata": {},
   "source": [
    "Some of the variables of interest in the extra dataset are objects, like the TAVG variable. So, we will convert the data type into numeric and the date as datetime. "
   ]
  },
  {
   "cell_type": "code",
   "execution_count": 6,
   "id": "fb74189d",
   "metadata": {},
   "outputs": [],
   "source": [
    "#Converting Date to datetype\n",
    "Extra[\"DATE\"]=pd.to_datetime(Extra[\"DATE\"])\n",
    "\n",
    "#Converting TAVG to numeric\n",
    "Extra[\"TAVG\"]=pd.to_numeric(Extra[\"TAVG\"],  errors= 'coerce')\n"
   ]
  },
  {
   "cell_type": "markdown",
   "id": "9dfeec35",
   "metadata": {},
   "source": [
    "Now we can have a clear view of our data. We can assume that the Temperature in this dataset is also in Celsious."
   ]
  },
  {
   "cell_type": "code",
   "execution_count": 7,
   "id": "db0a3221",
   "metadata": {},
   "outputs": [
    {
     "data": {
      "text/html": [
       "<div>\n",
       "<style scoped>\n",
       "    .dataframe tbody tr th:only-of-type {\n",
       "        vertical-align: middle;\n",
       "    }\n",
       "\n",
       "    .dataframe tbody tr th {\n",
       "        vertical-align: top;\n",
       "    }\n",
       "\n",
       "    .dataframe thead th {\n",
       "        text-align: right;\n",
       "    }\n",
       "</style>\n",
       "<table border=\"1\" class=\"dataframe\">\n",
       "  <thead>\n",
       "    <tr style=\"text-align: right;\">\n",
       "      <th></th>\n",
       "      <th>TAVG</th>\n",
       "      <th>HAVG</th>\n",
       "      <th>HMAX</th>\n",
       "      <th>HMIN</th>\n",
       "      <th>PAVG</th>\n",
       "      <th>PMAX</th>\n",
       "      <th>PMIN</th>\n",
       "      <th>DAILY RAINFALL</th>\n",
       "      <th>WMEAN</th>\n",
       "      <th>WGUST</th>\n",
       "      <th>Unnamed: 14</th>\n",
       "      <th>Unnamed: 15</th>\n",
       "    </tr>\n",
       "  </thead>\n",
       "  <tbody>\n",
       "    <tr>\n",
       "      <th>count</th>\n",
       "      <td>3649.000000</td>\n",
       "      <td>3652.000000</td>\n",
       "      <td>3652.000000</td>\n",
       "      <td>3652.000000</td>\n",
       "      <td>3652.000000</td>\n",
       "      <td>3652.000000</td>\n",
       "      <td>3652.000000</td>\n",
       "      <td>3652.000000</td>\n",
       "      <td>3652.000000</td>\n",
       "      <td>3652.000000</td>\n",
       "      <td>0.0</td>\n",
       "      <td>1.000000</td>\n",
       "    </tr>\n",
       "    <tr>\n",
       "      <th>mean</th>\n",
       "      <td>19.443245</td>\n",
       "      <td>60.689923</td>\n",
       "      <td>75.160186</td>\n",
       "      <td>45.710022</td>\n",
       "      <td>1015.309173</td>\n",
       "      <td>1017.351232</td>\n",
       "      <td>1013.219962</td>\n",
       "      <td>1.255531</td>\n",
       "      <td>4.609693</td>\n",
       "      <td>11.955148</td>\n",
       "      <td>NaN</td>\n",
       "      <td>19.630495</td>\n",
       "    </tr>\n",
       "    <tr>\n",
       "      <th>std</th>\n",
       "      <td>7.143639</td>\n",
       "      <td>12.752247</td>\n",
       "      <td>12.016278</td>\n",
       "      <td>13.018642</td>\n",
       "      <td>6.104613</td>\n",
       "      <td>5.996034</td>\n",
       "      <td>6.391040</td>\n",
       "      <td>4.993957</td>\n",
       "      <td>3.227490</td>\n",
       "      <td>6.311313</td>\n",
       "      <td>NaN</td>\n",
       "      <td>NaN</td>\n",
       "    </tr>\n",
       "    <tr>\n",
       "      <th>min</th>\n",
       "      <td>0.800000</td>\n",
       "      <td>26.300000</td>\n",
       "      <td>38.000000</td>\n",
       "      <td>13.000000</td>\n",
       "      <td>992.300000</td>\n",
       "      <td>999.400000</td>\n",
       "      <td>983.400000</td>\n",
       "      <td>0.000000</td>\n",
       "      <td>0.200000</td>\n",
       "      <td>2.000000</td>\n",
       "      <td>NaN</td>\n",
       "      <td>19.630495</td>\n",
       "    </tr>\n",
       "    <tr>\n",
       "      <th>25%</th>\n",
       "      <td>13.700000</td>\n",
       "      <td>50.675000</td>\n",
       "      <td>67.000000</td>\n",
       "      <td>36.000000</td>\n",
       "      <td>1011.300000</td>\n",
       "      <td>1013.100000</td>\n",
       "      <td>1009.300000</td>\n",
       "      <td>0.000000</td>\n",
       "      <td>2.300000</td>\n",
       "      <td>7.500000</td>\n",
       "      <td>NaN</td>\n",
       "      <td>19.630495</td>\n",
       "    </tr>\n",
       "    <tr>\n",
       "      <th>50%</th>\n",
       "      <td>18.900000</td>\n",
       "      <td>61.300000</td>\n",
       "      <td>77.000000</td>\n",
       "      <td>45.000000</td>\n",
       "      <td>1014.600000</td>\n",
       "      <td>1016.500000</td>\n",
       "      <td>1012.700000</td>\n",
       "      <td>0.000000</td>\n",
       "      <td>3.600000</td>\n",
       "      <td>10.300000</td>\n",
       "      <td>NaN</td>\n",
       "      <td>19.630495</td>\n",
       "    </tr>\n",
       "    <tr>\n",
       "      <th>75%</th>\n",
       "      <td>25.800000</td>\n",
       "      <td>70.700000</td>\n",
       "      <td>85.000000</td>\n",
       "      <td>55.000000</td>\n",
       "      <td>1019.200000</td>\n",
       "      <td>1021.200000</td>\n",
       "      <td>1017.100000</td>\n",
       "      <td>0.000000</td>\n",
       "      <td>6.100000</td>\n",
       "      <td>15.100000</td>\n",
       "      <td>NaN</td>\n",
       "      <td>19.630495</td>\n",
       "    </tr>\n",
       "    <tr>\n",
       "      <th>max</th>\n",
       "      <td>35.300000</td>\n",
       "      <td>90.100000</td>\n",
       "      <td>96.000000</td>\n",
       "      <td>85.000000</td>\n",
       "      <td>1037.100000</td>\n",
       "      <td>1039.400000</td>\n",
       "      <td>1036.300000</td>\n",
       "      <td>97.000000</td>\n",
       "      <td>23.200000</td>\n",
       "      <td>46.300000</td>\n",
       "      <td>NaN</td>\n",
       "      <td>19.630495</td>\n",
       "    </tr>\n",
       "  </tbody>\n",
       "</table>\n",
       "</div>"
      ],
      "text/plain": [
       "              TAVG         HAVG         HMAX         HMIN         PAVG  \\\n",
       "count  3649.000000  3652.000000  3652.000000  3652.000000  3652.000000   \n",
       "mean     19.443245    60.689923    75.160186    45.710022  1015.309173   \n",
       "std       7.143639    12.752247    12.016278    13.018642     6.104613   \n",
       "min       0.800000    26.300000    38.000000    13.000000   992.300000   \n",
       "25%      13.700000    50.675000    67.000000    36.000000  1011.300000   \n",
       "50%      18.900000    61.300000    77.000000    45.000000  1014.600000   \n",
       "75%      25.800000    70.700000    85.000000    55.000000  1019.200000   \n",
       "max      35.300000    90.100000    96.000000    85.000000  1037.100000   \n",
       "\n",
       "              PMAX         PMIN  DAILY RAINFALL        WMEAN        WGUST  \\\n",
       "count  3652.000000  3652.000000     3652.000000  3652.000000  3652.000000   \n",
       "mean   1017.351232  1013.219962        1.255531     4.609693    11.955148   \n",
       "std       5.996034     6.391040        4.993957     3.227490     6.311313   \n",
       "min     999.400000   983.400000        0.000000     0.200000     2.000000   \n",
       "25%    1013.100000  1009.300000        0.000000     2.300000     7.500000   \n",
       "50%    1016.500000  1012.700000        0.000000     3.600000    10.300000   \n",
       "75%    1021.200000  1017.100000        0.000000     6.100000    15.100000   \n",
       "max    1039.400000  1036.300000       97.000000    23.200000    46.300000   \n",
       "\n",
       "       Unnamed: 14  Unnamed: 15  \n",
       "count          0.0     1.000000  \n",
       "mean           NaN    19.630495  \n",
       "std            NaN          NaN  \n",
       "min            NaN    19.630495  \n",
       "25%            NaN    19.630495  \n",
       "50%            NaN    19.630495  \n",
       "75%            NaN    19.630495  \n",
       "max            NaN    19.630495  "
      ]
     },
     "execution_count": 7,
     "metadata": {},
     "output_type": "execute_result"
    }
   ],
   "source": [
    "Extra.describe()"
   ]
  },
  {
   "cell_type": "markdown",
   "id": "c24e91f2",
   "metadata": {},
   "source": [
    "We do not need all the information from the second dataset and therefore, we will keep only the variables in need."
   ]
  },
  {
   "cell_type": "code",
   "execution_count": 8,
   "id": "8c9cd6fe",
   "metadata": {},
   "outputs": [],
   "source": [
    "#We selected a subset of the Extra dataset to fill the missing values \n",
    "FillData=Extra[[\"DATE\",\"TAVG\",\"DAILY RAINFALL\"]]\n",
    "FillData=FillData.sort_values(by=['DATE'])\n"
   ]
  },
  {
   "cell_type": "markdown",
   "id": "cdf9ae92",
   "metadata": {},
   "source": [
    "We also checked the data types of the main dataset and we applied the necessary modifications."
   ]
  },
  {
   "cell_type": "code",
   "execution_count": 9,
   "id": "7716473d",
   "metadata": {},
   "outputs": [
    {
     "data": {
      "text/plain": [
       "STATION     object\n",
       "NAME        object\n",
       "DATE        object\n",
       "PRCP       float64\n",
       "TAVG       float64\n",
       "dtype: object"
      ]
     },
     "execution_count": 9,
     "metadata": {},
     "output_type": "execute_result"
    }
   ],
   "source": [
    "Data.dtypes"
   ]
  },
  {
   "cell_type": "code",
   "execution_count": 10,
   "id": "a794675b",
   "metadata": {},
   "outputs": [
    {
     "data": {
      "text/plain": [
       "STATION            object\n",
       "NAME               object\n",
       "DATE       datetime64[ns]\n",
       "PRCP              float64\n",
       "TAVG              float64\n",
       "dtype: object"
      ]
     },
     "execution_count": 10,
     "metadata": {},
     "output_type": "execute_result"
    }
   ],
   "source": [
    "#Convert Date into Datetime\n",
    "Data[\"DATE\"]=pd.to_datetime(Data[\"DATE\"])\n",
    "Data.dtypes"
   ]
  },
  {
   "cell_type": "markdown",
   "id": "c2c5b573",
   "metadata": {},
   "source": [
    "In order to ameliorate the absence of several values in the main dataset we merged the two datasets. Afterwards, we filled the missing values in the columns PRCP and TAVG_x of the first dataset with the respectively values of the DAILY RAINFALL and TAVG_y of the second dataset."
   ]
  },
  {
   "cell_type": "markdown",
   "id": "63429e55",
   "metadata": {},
   "source": [
    "The merged Dataset is presented below. We used an outer join in order to fill the missing values in the \"Data\" dataset with the corresponding values of \"FillData\" dataset.The merged dataset will contain also observations of dates that were missing in the original dataset."
   ]
  },
  {
   "cell_type": "code",
   "execution_count": 11,
   "id": "56219cb2",
   "metadata": {},
   "outputs": [
    {
     "data": {
      "text/html": [
       "<div>\n",
       "<style scoped>\n",
       "    .dataframe tbody tr th:only-of-type {\n",
       "        vertical-align: middle;\n",
       "    }\n",
       "\n",
       "    .dataframe tbody tr th {\n",
       "        vertical-align: top;\n",
       "    }\n",
       "\n",
       "    .dataframe thead th {\n",
       "        text-align: right;\n",
       "    }\n",
       "</style>\n",
       "<table border=\"1\" class=\"dataframe\">\n",
       "  <thead>\n",
       "    <tr style=\"text-align: right;\">\n",
       "      <th></th>\n",
       "      <th>STATION</th>\n",
       "      <th>NAME</th>\n",
       "      <th>DATE</th>\n",
       "      <th>PRCP</th>\n",
       "      <th>TAVG_x</th>\n",
       "      <th>TAVG_y</th>\n",
       "      <th>DAILY RAINFALL</th>\n",
       "    </tr>\n",
       "  </thead>\n",
       "  <tbody>\n",
       "    <tr>\n",
       "      <th>0</th>\n",
       "      <td>GR000016716</td>\n",
       "      <td>HELLINIKON, GR</td>\n",
       "      <td>1955-01-01</td>\n",
       "      <td>0.0</td>\n",
       "      <td>NaN</td>\n",
       "      <td>NaN</td>\n",
       "      <td>NaN</td>\n",
       "    </tr>\n",
       "    <tr>\n",
       "      <th>1</th>\n",
       "      <td>GR000016716</td>\n",
       "      <td>HELLINIKON, GR</td>\n",
       "      <td>1955-01-02</td>\n",
       "      <td>2.0</td>\n",
       "      <td>NaN</td>\n",
       "      <td>NaN</td>\n",
       "      <td>NaN</td>\n",
       "    </tr>\n",
       "    <tr>\n",
       "      <th>2</th>\n",
       "      <td>GR000016716</td>\n",
       "      <td>HELLINIKON, GR</td>\n",
       "      <td>1955-01-03</td>\n",
       "      <td>0.0</td>\n",
       "      <td>NaN</td>\n",
       "      <td>NaN</td>\n",
       "      <td>NaN</td>\n",
       "    </tr>\n",
       "    <tr>\n",
       "      <th>3</th>\n",
       "      <td>GR000016716</td>\n",
       "      <td>HELLINIKON, GR</td>\n",
       "      <td>1955-01-04</td>\n",
       "      <td>0.0</td>\n",
       "      <td>NaN</td>\n",
       "      <td>NaN</td>\n",
       "      <td>NaN</td>\n",
       "    </tr>\n",
       "    <tr>\n",
       "      <th>4</th>\n",
       "      <td>GR000016716</td>\n",
       "      <td>HELLINIKON, GR</td>\n",
       "      <td>1955-01-05</td>\n",
       "      <td>0.0</td>\n",
       "      <td>NaN</td>\n",
       "      <td>NaN</td>\n",
       "      <td>NaN</td>\n",
       "    </tr>\n",
       "    <tr>\n",
       "      <th>...</th>\n",
       "      <td>...</td>\n",
       "      <td>...</td>\n",
       "      <td>...</td>\n",
       "      <td>...</td>\n",
       "      <td>...</td>\n",
       "      <td>...</td>\n",
       "      <td>...</td>\n",
       "    </tr>\n",
       "    <tr>\n",
       "      <th>23246</th>\n",
       "      <td>GR000016716</td>\n",
       "      <td>HELLINIKON, GR</td>\n",
       "      <td>2020-12-27</td>\n",
       "      <td>0.0</td>\n",
       "      <td>16.6</td>\n",
       "      <td>NaN</td>\n",
       "      <td>NaN</td>\n",
       "    </tr>\n",
       "    <tr>\n",
       "      <th>23247</th>\n",
       "      <td>GR000016716</td>\n",
       "      <td>HELLINIKON, GR</td>\n",
       "      <td>2020-12-28</td>\n",
       "      <td>6.6</td>\n",
       "      <td>14.8</td>\n",
       "      <td>NaN</td>\n",
       "      <td>NaN</td>\n",
       "    </tr>\n",
       "    <tr>\n",
       "      <th>23248</th>\n",
       "      <td>GR000016716</td>\n",
       "      <td>HELLINIKON, GR</td>\n",
       "      <td>2020-12-29</td>\n",
       "      <td>0.0</td>\n",
       "      <td>16.3</td>\n",
       "      <td>NaN</td>\n",
       "      <td>NaN</td>\n",
       "    </tr>\n",
       "    <tr>\n",
       "      <th>23249</th>\n",
       "      <td>GR000016716</td>\n",
       "      <td>HELLINIKON, GR</td>\n",
       "      <td>2020-12-30</td>\n",
       "      <td>0.0</td>\n",
       "      <td>16.4</td>\n",
       "      <td>NaN</td>\n",
       "      <td>NaN</td>\n",
       "    </tr>\n",
       "    <tr>\n",
       "      <th>23250</th>\n",
       "      <td>GR000016716</td>\n",
       "      <td>HELLINIKON, GR</td>\n",
       "      <td>2020-12-31</td>\n",
       "      <td>0.0</td>\n",
       "      <td>15.4</td>\n",
       "      <td>NaN</td>\n",
       "      <td>NaN</td>\n",
       "    </tr>\n",
       "  </tbody>\n",
       "</table>\n",
       "<p>24104 rows × 7 columns</p>\n",
       "</div>"
      ],
      "text/plain": [
       "           STATION            NAME       DATE  PRCP  TAVG_x  TAVG_y  \\\n",
       "0      GR000016716  HELLINIKON, GR 1955-01-01   0.0     NaN     NaN   \n",
       "1      GR000016716  HELLINIKON, GR 1955-01-02   2.0     NaN     NaN   \n",
       "2      GR000016716  HELLINIKON, GR 1955-01-03   0.0     NaN     NaN   \n",
       "3      GR000016716  HELLINIKON, GR 1955-01-04   0.0     NaN     NaN   \n",
       "4      GR000016716  HELLINIKON, GR 1955-01-05   0.0     NaN     NaN   \n",
       "...            ...             ...        ...   ...     ...     ...   \n",
       "23246  GR000016716  HELLINIKON, GR 2020-12-27   0.0    16.6     NaN   \n",
       "23247  GR000016716  HELLINIKON, GR 2020-12-28   6.6    14.8     NaN   \n",
       "23248  GR000016716  HELLINIKON, GR 2020-12-29   0.0    16.3     NaN   \n",
       "23249  GR000016716  HELLINIKON, GR 2020-12-30   0.0    16.4     NaN   \n",
       "23250  GR000016716  HELLINIKON, GR 2020-12-31   0.0    15.4     NaN   \n",
       "\n",
       "       DAILY RAINFALL  \n",
       "0                 NaN  \n",
       "1                 NaN  \n",
       "2                 NaN  \n",
       "3                 NaN  \n",
       "4                 NaN  \n",
       "...               ...  \n",
       "23246             NaN  \n",
       "23247             NaN  \n",
       "23248             NaN  \n",
       "23249             NaN  \n",
       "23250             NaN  \n",
       "\n",
       "[24104 rows x 7 columns]"
      ]
     },
     "execution_count": 11,
     "metadata": {},
     "output_type": "execute_result"
    }
   ],
   "source": [
    "#Creating the merged dataset\n",
    "MergedDf= Data.merge(FillData, how=\"outer\",left_on=\"DATE\", right_on=\"DATE\").sort_values(by=\"DATE\")\n",
    "\n",
    "#Print the Merged Dataframe\n",
    "MergedDf"
   ]
  },
  {
   "cell_type": "markdown",
   "id": "eeec3b4c",
   "metadata": {},
   "source": [
    "We fill the missing values of the sector PRCP of the first dataset with the values of Daily rainfall of the second dataset. We fill the missing values of the sector TAVG of the first dataset with the values of TAVG of the second dataset"
   ]
  },
  {
   "cell_type": "code",
   "execution_count": 12,
   "id": "7dabfb1b",
   "metadata": {},
   "outputs": [],
   "source": [
    "#Filling the missing values for variables PRCP and TAVG_x\n",
    "\n",
    "MergedDf[\"PRCP\"].fillna(MergedDf[\"DAILY RAINFALL\"], inplace=True)\n",
    "\n",
    "MergedDf[\"TAVG_x\"].fillna(MergedDf[\"TAVG_y\"], inplace=True)"
   ]
  },
  {
   "cell_type": "markdown",
   "id": "318fbe97",
   "metadata": {},
   "source": [
    "Now we can see that the missing values were eliminated. If we wanted to fill all NAs we could use the method of backward filling (bfill) or interpolation."
   ]
  },
  {
   "cell_type": "code",
   "execution_count": 13,
   "id": "d9779c89",
   "metadata": {},
   "outputs": [],
   "source": [
    "#Another way to fill the remaining NAs\n",
    "#MergedDf[\"PRCP\"]=MergedDf[\"PRCP\"].fillna(method=\"bfill\")\n",
    "#MergedDf[\"TAVG_x\"]=MergedDf[\"TAVG_x\"].fillna(method=\"bfill\")"
   ]
  },
  {
   "cell_type": "code",
   "execution_count": 14,
   "id": "06f6217c",
   "metadata": {
    "scrolled": true
   },
   "outputs": [
    {
     "data": {
      "text/plain": [
       "STATION             853\n",
       "NAME                853\n",
       "DATE                  0\n",
       "PRCP                376\n",
       "TAVG_x             2312\n",
       "TAVG_y            20455\n",
       "DAILY RAINFALL    20452\n",
       "dtype: int64"
      ]
     },
     "execution_count": 14,
     "metadata": {},
     "output_type": "execute_result"
    }
   ],
   "source": [
    "MergedDf.isna().sum()"
   ]
  },
  {
   "cell_type": "markdown",
   "id": "19891f59",
   "metadata": {},
   "source": [
    "After implementing all the above we conclude to the following Dataset."
   ]
  },
  {
   "cell_type": "code",
   "execution_count": 15,
   "id": "5419b3e2",
   "metadata": {},
   "outputs": [
    {
     "data": {
      "text/html": [
       "<div>\n",
       "<style scoped>\n",
       "    .dataframe tbody tr th:only-of-type {\n",
       "        vertical-align: middle;\n",
       "    }\n",
       "\n",
       "    .dataframe tbody tr th {\n",
       "        vertical-align: top;\n",
       "    }\n",
       "\n",
       "    .dataframe thead th {\n",
       "        text-align: right;\n",
       "    }\n",
       "</style>\n",
       "<table border=\"1\" class=\"dataframe\">\n",
       "  <thead>\n",
       "    <tr style=\"text-align: right;\">\n",
       "      <th></th>\n",
       "      <th>DATE</th>\n",
       "      <th>PRCP</th>\n",
       "      <th>TAVG</th>\n",
       "    </tr>\n",
       "  </thead>\n",
       "  <tbody>\n",
       "    <tr>\n",
       "      <th>0</th>\n",
       "      <td>1955-01-01</td>\n",
       "      <td>0.0</td>\n",
       "      <td>NaN</td>\n",
       "    </tr>\n",
       "    <tr>\n",
       "      <th>1</th>\n",
       "      <td>1955-01-02</td>\n",
       "      <td>2.0</td>\n",
       "      <td>NaN</td>\n",
       "    </tr>\n",
       "    <tr>\n",
       "      <th>2</th>\n",
       "      <td>1955-01-03</td>\n",
       "      <td>0.0</td>\n",
       "      <td>NaN</td>\n",
       "    </tr>\n",
       "    <tr>\n",
       "      <th>3</th>\n",
       "      <td>1955-01-04</td>\n",
       "      <td>0.0</td>\n",
       "      <td>NaN</td>\n",
       "    </tr>\n",
       "    <tr>\n",
       "      <th>4</th>\n",
       "      <td>1955-01-05</td>\n",
       "      <td>0.0</td>\n",
       "      <td>NaN</td>\n",
       "    </tr>\n",
       "    <tr>\n",
       "      <th>...</th>\n",
       "      <td>...</td>\n",
       "      <td>...</td>\n",
       "      <td>...</td>\n",
       "    </tr>\n",
       "    <tr>\n",
       "      <th>23246</th>\n",
       "      <td>2020-12-27</td>\n",
       "      <td>0.0</td>\n",
       "      <td>16.6</td>\n",
       "    </tr>\n",
       "    <tr>\n",
       "      <th>23247</th>\n",
       "      <td>2020-12-28</td>\n",
       "      <td>6.6</td>\n",
       "      <td>14.8</td>\n",
       "    </tr>\n",
       "    <tr>\n",
       "      <th>23248</th>\n",
       "      <td>2020-12-29</td>\n",
       "      <td>0.0</td>\n",
       "      <td>16.3</td>\n",
       "    </tr>\n",
       "    <tr>\n",
       "      <th>23249</th>\n",
       "      <td>2020-12-30</td>\n",
       "      <td>0.0</td>\n",
       "      <td>16.4</td>\n",
       "    </tr>\n",
       "    <tr>\n",
       "      <th>23250</th>\n",
       "      <td>2020-12-31</td>\n",
       "      <td>0.0</td>\n",
       "      <td>15.4</td>\n",
       "    </tr>\n",
       "  </tbody>\n",
       "</table>\n",
       "<p>24104 rows × 3 columns</p>\n",
       "</div>"
      ],
      "text/plain": [
       "            DATE  PRCP  TAVG\n",
       "0     1955-01-01   0.0   NaN\n",
       "1     1955-01-02   2.0   NaN\n",
       "2     1955-01-03   0.0   NaN\n",
       "3     1955-01-04   0.0   NaN\n",
       "4     1955-01-05   0.0   NaN\n",
       "...          ...   ...   ...\n",
       "23246 2020-12-27   0.0  16.6\n",
       "23247 2020-12-28   6.6  14.8\n",
       "23248 2020-12-29   0.0  16.3\n",
       "23249 2020-12-30   0.0  16.4\n",
       "23250 2020-12-31   0.0  15.4\n",
       "\n",
       "[24104 rows x 3 columns]"
      ]
     },
     "execution_count": 15,
     "metadata": {},
     "output_type": "execute_result"
    }
   ],
   "source": [
    "#We took a subset of the Merged Dataset \n",
    "FinalDF=MergedDf[[\"DATE\",\"PRCP\",\"TAVG_x\"]]\n",
    "FinalDF=FinalDF.sort_values(by=['DATE'])\n",
    "\n",
    "#Renaming the TAVG_x into TAVG\n",
    "FinalDF=FinalDF.rename(columns={\"TAVG_x\":\"TAVG\"})\n",
    "\n",
    "#Printing the Final Dataset\n",
    "FinalDF"
   ]
  },
  {
   "cell_type": "markdown",
   "id": "7a84817e",
   "metadata": {},
   "source": [
    "# 2. Deviation of Summer Temperatures"
   ]
  },
  {
   "cell_type": "markdown",
   "id": "902086d1",
   "metadata": {},
   "source": [
    "## 2.1 Data Preparation\n",
    "\n",
    "In this sector we are going to visualize the mean summer temperature deviation from a baseline of 1974-1999. We will first create a dataset containing only the summer period (June, July, August).  "
   ]
  },
  {
   "cell_type": "code",
   "execution_count": 16,
   "id": "52181c5e",
   "metadata": {},
   "outputs": [
    {
     "data": {
      "text/html": [
       "<div>\n",
       "<style scoped>\n",
       "    .dataframe tbody tr th:only-of-type {\n",
       "        vertical-align: middle;\n",
       "    }\n",
       "\n",
       "    .dataframe tbody tr th {\n",
       "        vertical-align: top;\n",
       "    }\n",
       "\n",
       "    .dataframe thead th {\n",
       "        text-align: right;\n",
       "    }\n",
       "</style>\n",
       "<table border=\"1\" class=\"dataframe\">\n",
       "  <thead>\n",
       "    <tr style=\"text-align: right;\">\n",
       "      <th></th>\n",
       "      <th>DATE</th>\n",
       "      <th>PRCP</th>\n",
       "      <th>TAVG</th>\n",
       "    </tr>\n",
       "  </thead>\n",
       "  <tbody>\n",
       "    <tr>\n",
       "      <th>151</th>\n",
       "      <td>1955-06-01</td>\n",
       "      <td>0.0</td>\n",
       "      <td>NaN</td>\n",
       "    </tr>\n",
       "    <tr>\n",
       "      <th>152</th>\n",
       "      <td>1955-06-02</td>\n",
       "      <td>0.0</td>\n",
       "      <td>NaN</td>\n",
       "    </tr>\n",
       "    <tr>\n",
       "      <th>153</th>\n",
       "      <td>1955-06-03</td>\n",
       "      <td>0.0</td>\n",
       "      <td>NaN</td>\n",
       "    </tr>\n",
       "    <tr>\n",
       "      <th>154</th>\n",
       "      <td>1955-06-04</td>\n",
       "      <td>0.0</td>\n",
       "      <td>NaN</td>\n",
       "    </tr>\n",
       "    <tr>\n",
       "      <th>155</th>\n",
       "      <td>1955-06-05</td>\n",
       "      <td>0.0</td>\n",
       "      <td>NaN</td>\n",
       "    </tr>\n",
       "    <tr>\n",
       "      <th>...</th>\n",
       "      <td>...</td>\n",
       "      <td>...</td>\n",
       "      <td>...</td>\n",
       "    </tr>\n",
       "    <tr>\n",
       "      <th>23124</th>\n",
       "      <td>2020-08-27</td>\n",
       "      <td>0.0</td>\n",
       "      <td>28.3</td>\n",
       "    </tr>\n",
       "    <tr>\n",
       "      <th>23125</th>\n",
       "      <td>2020-08-28</td>\n",
       "      <td>0.0</td>\n",
       "      <td>29.5</td>\n",
       "    </tr>\n",
       "    <tr>\n",
       "      <th>23126</th>\n",
       "      <td>2020-08-29</td>\n",
       "      <td>0.0</td>\n",
       "      <td>29.3</td>\n",
       "    </tr>\n",
       "    <tr>\n",
       "      <th>23127</th>\n",
       "      <td>2020-08-30</td>\n",
       "      <td>0.0</td>\n",
       "      <td>27.8</td>\n",
       "    </tr>\n",
       "    <tr>\n",
       "      <th>23128</th>\n",
       "      <td>2020-08-31</td>\n",
       "      <td>0.0</td>\n",
       "      <td>30.4</td>\n",
       "    </tr>\n",
       "  </tbody>\n",
       "</table>\n",
       "<p>6071 rows × 3 columns</p>\n",
       "</div>"
      ],
      "text/plain": [
       "            DATE  PRCP  TAVG\n",
       "151   1955-06-01   0.0   NaN\n",
       "152   1955-06-02   0.0   NaN\n",
       "153   1955-06-03   0.0   NaN\n",
       "154   1955-06-04   0.0   NaN\n",
       "155   1955-06-05   0.0   NaN\n",
       "...          ...   ...   ...\n",
       "23124 2020-08-27   0.0  28.3\n",
       "23125 2020-08-28   0.0  29.5\n",
       "23126 2020-08-29   0.0  29.3\n",
       "23127 2020-08-30   0.0  27.8\n",
       "23128 2020-08-31   0.0  30.4\n",
       "\n",
       "[6071 rows x 3 columns]"
      ]
     },
     "execution_count": 16,
     "metadata": {},
     "output_type": "execute_result"
    }
   ],
   "source": [
    "#Creating a Dataset with only summer period\n",
    "Summer_DF=FinalDF[FinalDF.DATE.dt.month.isin([6,7,8])]\n",
    "Summer_DF"
   ]
  },
  {
   "cell_type": "markdown",
   "id": "8115e7c4",
   "metadata": {},
   "source": [
    "Then, we will calculate the average summer temperature for each year.   "
   ]
  },
  {
   "cell_type": "code",
   "execution_count": 17,
   "id": "55cd3c06",
   "metadata": {},
   "outputs": [
    {
     "data": {
      "text/plain": [
       "DATE\n",
       "1955          NaN\n",
       "1956          NaN\n",
       "1957    28.091935\n",
       "1958    27.081522\n",
       "1959          NaN\n",
       "          ...    \n",
       "2016    28.154348\n",
       "2017    28.088043\n",
       "2018    27.436957\n",
       "2019    28.034783\n",
       "2020    27.380435\n",
       "Name: TAVG, Length: 66, dtype: float64"
      ]
     },
     "execution_count": 17,
     "metadata": {},
     "output_type": "execute_result"
    }
   ],
   "source": [
    "#Calculating the average summer temperature per year\n",
    "MO=Summer_DF.groupby(Summer_DF.DATE.dt.year).mean()['TAVG']\n",
    "MO\n",
    "\n"
   ]
  },
  {
   "cell_type": "markdown",
   "id": "af93fa39",
   "metadata": {},
   "source": [
    "Afterwards, the average temperature for the years 1974-1999 will be calculated in order to be used as a baseline for our analysis. "
   ]
  },
  {
   "cell_type": "code",
   "execution_count": 18,
   "id": "d07dacf8",
   "metadata": {},
   "outputs": [
    {
     "data": {
      "text/plain": [
       "26.232145850796297"
      ]
     },
     "execution_count": 18,
     "metadata": {},
     "output_type": "execute_result"
    }
   ],
   "source": [
    "#Creating a list which contains the years 1974-1999\n",
    "lista74_99=list(range(1974,2000))\n",
    "\n",
    "#Calculates the average temperature for the period 1974-1999\n",
    "avg1974_1999=Summer_DF[Summer_DF.DATE.dt.year.isin(lista74_99)]['TAVG'].mean()\n",
    "avg1974_1999\n"
   ]
  },
  {
   "cell_type": "markdown",
   "id": "efc9cc30",
   "metadata": {},
   "source": [
    "The next step is to calculate the deviations of each years' temperature from the baseline. "
   ]
  },
  {
   "cell_type": "code",
   "execution_count": 19,
   "id": "421ac84f",
   "metadata": {},
   "outputs": [
    {
     "data": {
      "text/plain": [
       "DATE\n",
       "1955         NaN\n",
       "1956         NaN\n",
       "1957    1.859790\n",
       "1958    0.849376\n",
       "1959         NaN\n",
       "          ...   \n",
       "2016    1.922202\n",
       "2017    1.855898\n",
       "2018    1.204811\n",
       "2019    1.802637\n",
       "2020    1.148289\n",
       "Name: TAVG, Length: 66, dtype: float64"
      ]
     },
     "execution_count": 19,
     "metadata": {},
     "output_type": "execute_result"
    }
   ],
   "source": [
    "#Calculates the differences from the baseline 1974-1999\n",
    "diff=MO-avg1974_1999\n",
    "diff "
   ]
  },
  {
   "cell_type": "markdown",
   "id": "cbb7e2ba",
   "metadata": {},
   "source": [
    "For the purposes of this analysis we calculated the 10 years rolling average of the deviation from the mean. "
   ]
  },
  {
   "cell_type": "code",
   "execution_count": 20,
   "id": "2baffbb6",
   "metadata": {},
   "outputs": [
    {
     "data": {
      "text/plain": [
       "DATE\n",
       "1955         NaN\n",
       "1956         NaN\n",
       "1957    1.859790\n",
       "1958    1.354583\n",
       "1959    1.354583\n",
       "          ...   \n",
       "2016    1.953902\n",
       "2017    1.936332\n",
       "2018    1.863180\n",
       "2019    1.927963\n",
       "2020    1.869811\n",
       "Name: TAVG, Length: 66, dtype: float64"
      ]
     },
     "execution_count": 20,
     "metadata": {},
     "output_type": "execute_result"
    }
   ],
   "source": [
    "#Calculates the 10 year rolling average\n",
    "x=diff.rolling(10,min_periods=1).mean()\n",
    "x"
   ]
  },
  {
   "cell_type": "code",
   "execution_count": 21,
   "id": "63ebb1c6",
   "metadata": {
    "scrolled": true
   },
   "outputs": [
    {
     "name": "stdout",
     "output_type": "stream",
     "text": [
      "['blue', 'blue', 'orange', 'orange', 'blue', 'blue', 'orange', 'orange', 'orange', 'orange', 'orange', 'orange', 'orange', 'blue', 'blue', 'blue', 'blue', 'blue', 'blue', 'orange', 'blue', 'blue', 'orange', 'blue', 'blue', 'blue', 'blue', 'blue', 'blue', 'blue', 'blue', 'orange', 'blue', 'orange', 'blue', 'orange', 'blue', 'blue', 'orange', 'orange', 'orange', 'orange', 'orange', 'orange', 'orange', 'orange', 'orange', 'orange', 'orange', 'orange', 'orange', 'orange', 'orange', 'orange', 'orange', 'orange', 'orange', 'orange', 'orange', 'orange', 'orange', 'orange', 'orange', 'orange', 'orange', 'orange']\n"
     ]
    }
   ],
   "source": [
    "#Creating a list of colors based on the value of diff in order to insert it in the graph below\n",
    "color = []\n",
    "\n",
    "for i in diff:\n",
    "    if i>=0:\n",
    "        color.append(\"orange\")\n",
    "    else:\n",
    "        color.append(\"blue\")\n",
    "        \n",
    "print(color)"
   ]
  },
  {
   "cell_type": "markdown",
   "id": "62c76d3c",
   "metadata": {},
   "source": [
    "## 2.2 Creating the Plot"
   ]
  },
  {
   "cell_type": "code",
   "execution_count": 22,
   "id": "a1bb2027",
   "metadata": {},
   "outputs": [
    {
     "data": {
      "text/plain": [
       "Text(0.5, 1.0, 'Mean Summer Temperature Difference from the 1974-1999 Mean')"
      ]
     },
     "execution_count": 22,
     "metadata": {},
     "output_type": "execute_result"
    },
    {
     "data": {
      "image/png": "[encoded data removed]",
      "text/plain": [
       "<Figure size 1080x720 with 1 Axes>"
      ]
     },
     "metadata": {},
     "output_type": "display_data"
    }
   ],
   "source": [
    "#Setting the size of the plot \n",
    "fig, ax=plt.subplots(figsize=(15,10))\n",
    "\n",
    "#Setting the number of the bars \n",
    "lista55_20=list(range(1955,2020))\n",
    "categories=lista55_20\n",
    "\n",
    "#Creating the a bar for each year\n",
    "ax.bar(diff.index,diff,width=0.2,color=color)\n",
    "\n",
    "#Adds the blue line with the 10 year rolling average \n",
    "ax.plot(x.index,x,color='mediumslateblue')\n",
    "\n",
    "#Sets a tittle \n",
    "ax.set_title('Mean Summer Temperature Difference from the 1974-1999 Mean',color=\"black\",size=20)\n"
   ]
  },
  {
   "cell_type": "markdown",
   "id": "48d59429",
   "metadata": {},
   "source": [
    "## 2.3 Interpretation of the graph"
   ]
  },
  {
   "cell_type": "markdown",
   "id": "8a75b84b",
   "metadata": {},
   "source": [
    "From the above graph it is noticeable that the summer mean temperature remained relative low during the period 1968-1992, and then started to rise and reached a local peak in 2011-2012 which were the warmest summers on record. Moreover, we can see that after 1998 the mean temperature remained almost stable at 2 degrees Celcius higher than the mean temperature of the 1974-1999 period. This can be an effect of the global warming phenomenon. "
   ]
  },
  {
   "cell_type": "markdown",
   "id": "8f16cf2a",
   "metadata": {},
   "source": [
    "# 3. Evolution of Daily Temperatures"
   ]
  },
  {
   "cell_type": "markdown",
   "id": "79e7308d",
   "metadata": {},
   "source": [
    "In this section we examine the average daily temperature for the period 1955 to 2020. We will create a different line for each year in order to be clear the evolution of the temperature over years. For this reason the lines will be colored from light orange to dark orange, progressing through the years in ascending order. Finally, we will compare the temperatures with the average daily temperature for the baseline period of 1974-1999."
   ]
  },
  {
   "cell_type": "markdown",
   "id": "d6545f3f",
   "metadata": {},
   "source": [
    "## 3.1 Data Preparation"
   ]
  },
  {
   "cell_type": "code",
   "execution_count": 23,
   "id": "3db548e9",
   "metadata": {},
   "outputs": [
    {
     "data": {
      "text/plain": [
       "DATE\n",
       "1955          NaN\n",
       "1956          NaN\n",
       "1957    21.271739\n",
       "1958    18.710959\n",
       "1959          NaN\n",
       "          ...    \n",
       "2016    19.372131\n",
       "2017    19.181370\n",
       "2018    19.512055\n",
       "2019    19.219726\n",
       "2020    19.314208\n",
       "Name: TAVG, Length: 66, dtype: float64"
      ]
     },
     "execution_count": 23,
     "metadata": {},
     "output_type": "execute_result"
    }
   ],
   "source": [
    "#Calculates the average temperature per year\n",
    "Temp_year=FinalDF.groupby(FinalDF.DATE.dt.year).mean()['TAVG']\n",
    "Temp_year"
   ]
  },
  {
   "cell_type": "code",
   "execution_count": 24,
   "id": "ba4e3bb1",
   "metadata": {},
   "outputs": [],
   "source": [
    "#Creating the Baseline for the graph\n",
    "line=FinalDF[FinalDF.DATE.dt.year.isin(lista74_99)]\n",
    "baseline=line.groupby(line.DATE.dt.day_of_year).TAVG.mean()"
   ]
  },
  {
   "cell_type": "markdown",
   "id": "e9c890ae",
   "metadata": {},
   "source": [
    "## 3.2 Creating the Graph"
   ]
  },
  {
   "cell_type": "code",
   "execution_count": 25,
   "id": "f35aefa9",
   "metadata": {},
   "outputs": [
    {
     "data": {
      "text/plain": [
       "[<matplotlib.lines.Line2D at 0x23436c383a0>]"
      ]
     },
     "execution_count": 25,
     "metadata": {},
     "output_type": "execute_result"
    },
    {
     "data": {
      "image/png": "[encoded data removed]",
      "text/plain": [
       "<Figure size 925.5x576 with 1 Axes>"
      ]
     },
     "metadata": {},
     "output_type": "display_data"
    }
   ],
   "source": [
    "\n",
    "import matplotlib.dates as mdates\n",
    "\n",
    "#Inserts a palette with orange colors\n",
    "palette=sns.color_palette(\"YlOrBr\", as_cmap=True)\n",
    "\n",
    "#Creating the graph \n",
    "gf=sns.relplot(x=FinalDF.DATE.dt.dayofyear, y=FinalDF.TAVG.rolling(30).mean(), hue=FinalDF.DATE.dt.year,\n",
    "            kind=\"line\", height=8, aspect=1.5,linewidth=1.2, palette=palette, data=FinalDF)\n",
    "\n",
    "#Formats the x-axis ticks \n",
    "fmt = mdates.DateFormatter(\"%b\")\n",
    "gf.ax.xaxis.set_major_formatter(fmt)\n",
    "\n",
    "#Sets the axis labels\n",
    "gf.set(xlabel =\"DATE\", ylabel=\"Average Daily Temperature\")\n",
    "\n",
    "#Draws the baseline \n",
    "plt.plot(baseline.rolling(30, min_periods=1).mean(), color ='black',linewidth = 2)\n",
    "\n"
   ]
  },
  {
   "cell_type": "markdown",
   "id": "da57cbc0",
   "metadata": {},
   "source": [
    "## 3.3 Interpretation of the Graph"
   ]
  },
  {
   "cell_type": "markdown",
   "id": "4ce3c0ab",
   "metadata": {},
   "source": [
    "From the above graph we gained insight about the average daily temperatures for each season. Specifically, during winter the average daily temperature is below 15 degrees of Celsius and during spring the average daily temperature can reach 20 degrees Celsius. In the summer and especially during August the daily temperature can reach 30 degrees Celsius. It also noticable that during the last years the local peak is higher than 30 degrees. In conjunction with the previous chart we can assume that the two lines that exceed 30 degrees during August should be 2011 and 1012. Finally, during autumn the daily temperature is lower than 25 degrees Celsius and higher than 15 degrees. \n",
    "\n",
    "Another observation we should note here is that the most recent years are above the baseline of the average temperature of 1974-1999. This is an important indicator that nowadays there is an alarming increase in temperatures during all seasons. \n"
   ]
  },
  {
   "cell_type": "markdown",
   "id": "640ed178",
   "metadata": {},
   "source": [
    "# 4. Extreme Temperature Events"
   ]
  },
  {
   "cell_type": "markdown",
   "id": "441548e0",
   "metadata": {},
   "source": [
    "In this section, we examine the extreme temperature events over the years. As an extreme temperature can be deemed a temperature 10% higher than the expected value. Below we will count the number of extreme events per year consider the extreme events of 1974-1999 as a baseline. At the end, we will visualize at which years the percentage of the extreme heat events exceed the baseline.  "
   ]
  },
  {
   "cell_type": "markdown",
   "id": "db6ff4e1",
   "metadata": {},
   "source": [
    "## 4.1 Data Preparation"
   ]
  },
  {
   "cell_type": "markdown",
   "id": "72790af1",
   "metadata": {},
   "source": [
    "The first step is to count the number of observations for each year. This will help us calculate the percentage of extreme events based on the existing observations. That is happening because we do not have data for all the days of a year. "
   ]
  },
  {
   "cell_type": "code",
   "execution_count": 26,
   "id": "d68cc295",
   "metadata": {},
   "outputs": [
    {
     "data": {
      "text/plain": [
       "DATE\n",
       "1955      0\n",
       "1956      0\n",
       "1957    184\n",
       "1958    365\n",
       "1959      0\n",
       "       ... \n",
       "2016    366\n",
       "2017    365\n",
       "2018    365\n",
       "2019    365\n",
       "2020    366\n",
       "Name: TAVG, Length: 66, dtype: int64"
      ]
     },
     "execution_count": 26,
     "metadata": {},
     "output_type": "execute_result"
    }
   ],
   "source": [
    "#Counts the number of observations for each year \n",
    "obs=FinalDF.groupby(FinalDF.DATE.dt.year).count()\n",
    "obs\n",
    "obs.TAVG\n"
   ]
  },
  {
   "cell_type": "markdown",
   "id": "d28ec601",
   "metadata": {},
   "source": [
    "We create a copy of the Final Dataframe in order to avoid problems."
   ]
  },
  {
   "cell_type": "code",
   "execution_count": 27,
   "id": "8adec700",
   "metadata": {},
   "outputs": [
    {
     "data": {
      "text/html": [
       "<div>\n",
       "<style scoped>\n",
       "    .dataframe tbody tr th:only-of-type {\n",
       "        vertical-align: middle;\n",
       "    }\n",
       "\n",
       "    .dataframe tbody tr th {\n",
       "        vertical-align: top;\n",
       "    }\n",
       "\n",
       "    .dataframe thead th {\n",
       "        text-align: right;\n",
       "    }\n",
       "</style>\n",
       "<table border=\"1\" class=\"dataframe\">\n",
       "  <thead>\n",
       "    <tr style=\"text-align: right;\">\n",
       "      <th></th>\n",
       "      <th>DATE</th>\n",
       "      <th>PRCP</th>\n",
       "      <th>TAVG</th>\n",
       "    </tr>\n",
       "  </thead>\n",
       "  <tbody>\n",
       "    <tr>\n",
       "      <th>0</th>\n",
       "      <td>1955-01-01</td>\n",
       "      <td>0.0</td>\n",
       "      <td>NaN</td>\n",
       "    </tr>\n",
       "    <tr>\n",
       "      <th>1</th>\n",
       "      <td>1955-01-02</td>\n",
       "      <td>2.0</td>\n",
       "      <td>NaN</td>\n",
       "    </tr>\n",
       "    <tr>\n",
       "      <th>2</th>\n",
       "      <td>1955-01-03</td>\n",
       "      <td>0.0</td>\n",
       "      <td>NaN</td>\n",
       "    </tr>\n",
       "    <tr>\n",
       "      <th>3</th>\n",
       "      <td>1955-01-04</td>\n",
       "      <td>0.0</td>\n",
       "      <td>NaN</td>\n",
       "    </tr>\n",
       "    <tr>\n",
       "      <th>4</th>\n",
       "      <td>1955-01-05</td>\n",
       "      <td>0.0</td>\n",
       "      <td>NaN</td>\n",
       "    </tr>\n",
       "    <tr>\n",
       "      <th>...</th>\n",
       "      <td>...</td>\n",
       "      <td>...</td>\n",
       "      <td>...</td>\n",
       "    </tr>\n",
       "    <tr>\n",
       "      <th>23246</th>\n",
       "      <td>2020-12-27</td>\n",
       "      <td>0.0</td>\n",
       "      <td>16.6</td>\n",
       "    </tr>\n",
       "    <tr>\n",
       "      <th>23247</th>\n",
       "      <td>2020-12-28</td>\n",
       "      <td>6.6</td>\n",
       "      <td>14.8</td>\n",
       "    </tr>\n",
       "    <tr>\n",
       "      <th>23248</th>\n",
       "      <td>2020-12-29</td>\n",
       "      <td>0.0</td>\n",
       "      <td>16.3</td>\n",
       "    </tr>\n",
       "    <tr>\n",
       "      <th>23249</th>\n",
       "      <td>2020-12-30</td>\n",
       "      <td>0.0</td>\n",
       "      <td>16.4</td>\n",
       "    </tr>\n",
       "    <tr>\n",
       "      <th>23250</th>\n",
       "      <td>2020-12-31</td>\n",
       "      <td>0.0</td>\n",
       "      <td>15.4</td>\n",
       "    </tr>\n",
       "  </tbody>\n",
       "</table>\n",
       "<p>24104 rows × 3 columns</p>\n",
       "</div>"
      ],
      "text/plain": [
       "            DATE  PRCP  TAVG\n",
       "0     1955-01-01   0.0   NaN\n",
       "1     1955-01-02   2.0   NaN\n",
       "2     1955-01-03   0.0   NaN\n",
       "3     1955-01-04   0.0   NaN\n",
       "4     1955-01-05   0.0   NaN\n",
       "...          ...   ...   ...\n",
       "23246 2020-12-27   0.0  16.6\n",
       "23247 2020-12-28   6.6  14.8\n",
       "23248 2020-12-29   0.0  16.3\n",
       "23249 2020-12-30   0.0  16.4\n",
       "23250 2020-12-31   0.0  15.4\n",
       "\n",
       "[24104 rows x 3 columns]"
      ]
     },
     "execution_count": 27,
     "metadata": {},
     "output_type": "execute_result"
    }
   ],
   "source": [
    "#Creating a copy of the Final Dataframe\n",
    "New=FinalDF.copy()\n",
    "New"
   ]
  },
  {
   "cell_type": "markdown",
   "id": "efa21c75",
   "metadata": {},
   "source": [
    "In order to difine the extreme heat events we need to set a baseline to compare the temperatures with. We will set this baseline as the average temperature of each day of the year that was calculated only for the period 1974-1999. Then we will examine if the daily temperature exceeds the baseline temperature of the respective day of the year beyond 10%. "
   ]
  },
  {
   "cell_type": "code",
   "execution_count": 28,
   "id": "e7356484",
   "metadata": {},
   "outputs": [
    {
     "data": {
      "text/plain": [
       "DATE\n",
       "1      10.365385\n",
       "2      10.707692\n",
       "3      10.207692\n",
       "4       9.634615\n",
       "5       9.919231\n",
       "         ...    \n",
       "362    10.261538\n",
       "363    10.653846\n",
       "364    11.011538\n",
       "365    11.146154\n",
       "366     9.833333\n",
       "Name: TAVG, Length: 366, dtype: float64"
      ]
     },
     "execution_count": 28,
     "metadata": {},
     "output_type": "execute_result"
    }
   ],
   "source": [
    "#Creating a subset of the Final dataframe containing only the observations of the period 1974-1999.\n",
    "DF74_99=FinalDF[New.DATE.dt.year.isin(lista74_99)]\n",
    "\n",
    "#Calculating the average temperature of each day of the year and for the period 1974-1999\n",
    "base=DF74_99.groupby(DF74_99.DATE.dt.dayofyear).TAVG.mean()\n",
    "base"
   ]
  },
  {
   "cell_type": "markdown",
   "id": "cc514dc8",
   "metadata": {},
   "source": [
    "We create a new column in the dataframe which declares the day of the year that corresponds to each observation. "
   ]
  },
  {
   "cell_type": "code",
   "execution_count": 29,
   "id": "efb37880",
   "metadata": {},
   "outputs": [
    {
     "data": {
      "text/html": [
       "<div>\n",
       "<style scoped>\n",
       "    .dataframe tbody tr th:only-of-type {\n",
       "        vertical-align: middle;\n",
       "    }\n",
       "\n",
       "    .dataframe tbody tr th {\n",
       "        vertical-align: top;\n",
       "    }\n",
       "\n",
       "    .dataframe thead th {\n",
       "        text-align: right;\n",
       "    }\n",
       "</style>\n",
       "<table border=\"1\" class=\"dataframe\">\n",
       "  <thead>\n",
       "    <tr style=\"text-align: right;\">\n",
       "      <th></th>\n",
       "      <th>DATE</th>\n",
       "      <th>PRCP</th>\n",
       "      <th>TAVG</th>\n",
       "      <th>day_index</th>\n",
       "    </tr>\n",
       "  </thead>\n",
       "  <tbody>\n",
       "    <tr>\n",
       "      <th>0</th>\n",
       "      <td>1955-01-01</td>\n",
       "      <td>0.0</td>\n",
       "      <td>NaN</td>\n",
       "      <td>1</td>\n",
       "    </tr>\n",
       "    <tr>\n",
       "      <th>1</th>\n",
       "      <td>1955-01-02</td>\n",
       "      <td>2.0</td>\n",
       "      <td>NaN</td>\n",
       "      <td>2</td>\n",
       "    </tr>\n",
       "    <tr>\n",
       "      <th>2</th>\n",
       "      <td>1955-01-03</td>\n",
       "      <td>0.0</td>\n",
       "      <td>NaN</td>\n",
       "      <td>3</td>\n",
       "    </tr>\n",
       "    <tr>\n",
       "      <th>3</th>\n",
       "      <td>1955-01-04</td>\n",
       "      <td>0.0</td>\n",
       "      <td>NaN</td>\n",
       "      <td>4</td>\n",
       "    </tr>\n",
       "    <tr>\n",
       "      <th>4</th>\n",
       "      <td>1955-01-05</td>\n",
       "      <td>0.0</td>\n",
       "      <td>NaN</td>\n",
       "      <td>5</td>\n",
       "    </tr>\n",
       "    <tr>\n",
       "      <th>...</th>\n",
       "      <td>...</td>\n",
       "      <td>...</td>\n",
       "      <td>...</td>\n",
       "      <td>...</td>\n",
       "    </tr>\n",
       "    <tr>\n",
       "      <th>23246</th>\n",
       "      <td>2020-12-27</td>\n",
       "      <td>0.0</td>\n",
       "      <td>16.6</td>\n",
       "      <td>362</td>\n",
       "    </tr>\n",
       "    <tr>\n",
       "      <th>23247</th>\n",
       "      <td>2020-12-28</td>\n",
       "      <td>6.6</td>\n",
       "      <td>14.8</td>\n",
       "      <td>363</td>\n",
       "    </tr>\n",
       "    <tr>\n",
       "      <th>23248</th>\n",
       "      <td>2020-12-29</td>\n",
       "      <td>0.0</td>\n",
       "      <td>16.3</td>\n",
       "      <td>364</td>\n",
       "    </tr>\n",
       "    <tr>\n",
       "      <th>23249</th>\n",
       "      <td>2020-12-30</td>\n",
       "      <td>0.0</td>\n",
       "      <td>16.4</td>\n",
       "      <td>365</td>\n",
       "    </tr>\n",
       "    <tr>\n",
       "      <th>23250</th>\n",
       "      <td>2020-12-31</td>\n",
       "      <td>0.0</td>\n",
       "      <td>15.4</td>\n",
       "      <td>366</td>\n",
       "    </tr>\n",
       "  </tbody>\n",
       "</table>\n",
       "<p>24104 rows × 4 columns</p>\n",
       "</div>"
      ],
      "text/plain": [
       "            DATE  PRCP  TAVG  day_index\n",
       "0     1955-01-01   0.0   NaN          1\n",
       "1     1955-01-02   2.0   NaN          2\n",
       "2     1955-01-03   0.0   NaN          3\n",
       "3     1955-01-04   0.0   NaN          4\n",
       "4     1955-01-05   0.0   NaN          5\n",
       "...          ...   ...   ...        ...\n",
       "23246 2020-12-27   0.0  16.6        362\n",
       "23247 2020-12-28   6.6  14.8        363\n",
       "23248 2020-12-29   0.0  16.3        364\n",
       "23249 2020-12-30   0.0  16.4        365\n",
       "23250 2020-12-31   0.0  15.4        366\n",
       "\n",
       "[24104 rows x 4 columns]"
      ]
     },
     "execution_count": 29,
     "metadata": {},
     "output_type": "execute_result"
    }
   ],
   "source": [
    "#Inserting a new column for the day of the year \n",
    "New['day_index'] = New.DATE.dt.dayofyear\n",
    "New"
   ]
  },
  {
   "cell_type": "markdown",
   "id": "62ef1f0a",
   "metadata": {},
   "source": [
    "We merged the previous dataframe with the dataframe \"base\" which indicates the baseline temperature to make the comparison between the daily temperature and the baseline easier. The join conducted on the day of the year index. It is also needed to rename the columns. "
   ]
  },
  {
   "cell_type": "code",
   "execution_count": 30,
   "id": "fd899c78",
   "metadata": {},
   "outputs": [
    {
     "data": {
      "text/html": [
       "<div>\n",
       "<style scoped>\n",
       "    .dataframe tbody tr th:only-of-type {\n",
       "        vertical-align: middle;\n",
       "    }\n",
       "\n",
       "    .dataframe tbody tr th {\n",
       "        vertical-align: top;\n",
       "    }\n",
       "\n",
       "    .dataframe thead th {\n",
       "        text-align: right;\n",
       "    }\n",
       "</style>\n",
       "<table border=\"1\" class=\"dataframe\">\n",
       "  <thead>\n",
       "    <tr style=\"text-align: right;\">\n",
       "      <th></th>\n",
       "      <th>DATE</th>\n",
       "      <th>PRCP</th>\n",
       "      <th>TAVG</th>\n",
       "      <th>day_index</th>\n",
       "      <th>TAVG_BASE</th>\n",
       "    </tr>\n",
       "  </thead>\n",
       "  <tbody>\n",
       "    <tr>\n",
       "      <th>0</th>\n",
       "      <td>1955-01-01</td>\n",
       "      <td>0.0</td>\n",
       "      <td>NaN</td>\n",
       "      <td>1</td>\n",
       "      <td>10.365385</td>\n",
       "    </tr>\n",
       "    <tr>\n",
       "      <th>1</th>\n",
       "      <td>1956-01-01</td>\n",
       "      <td>0.0</td>\n",
       "      <td>NaN</td>\n",
       "      <td>1</td>\n",
       "      <td>10.365385</td>\n",
       "    </tr>\n",
       "    <tr>\n",
       "      <th>2</th>\n",
       "      <td>1957-01-01</td>\n",
       "      <td>0.0</td>\n",
       "      <td>NaN</td>\n",
       "      <td>1</td>\n",
       "      <td>10.365385</td>\n",
       "    </tr>\n",
       "    <tr>\n",
       "      <th>3</th>\n",
       "      <td>1958-01-01</td>\n",
       "      <td>0.0</td>\n",
       "      <td>12.1</td>\n",
       "      <td>1</td>\n",
       "      <td>10.365385</td>\n",
       "    </tr>\n",
       "    <tr>\n",
       "      <th>4</th>\n",
       "      <td>1959-01-01</td>\n",
       "      <td>0.0</td>\n",
       "      <td>NaN</td>\n",
       "      <td>1</td>\n",
       "      <td>10.365385</td>\n",
       "    </tr>\n",
       "    <tr>\n",
       "      <th>...</th>\n",
       "      <td>...</td>\n",
       "      <td>...</td>\n",
       "      <td>...</td>\n",
       "      <td>...</td>\n",
       "      <td>...</td>\n",
       "    </tr>\n",
       "    <tr>\n",
       "      <th>24099</th>\n",
       "      <td>2004-12-31</td>\n",
       "      <td>9.4</td>\n",
       "      <td>9.9</td>\n",
       "      <td>366</td>\n",
       "      <td>9.833333</td>\n",
       "    </tr>\n",
       "    <tr>\n",
       "      <th>24100</th>\n",
       "      <td>2008-12-31</td>\n",
       "      <td>0.0</td>\n",
       "      <td>6.0</td>\n",
       "      <td>366</td>\n",
       "      <td>9.833333</td>\n",
       "    </tr>\n",
       "    <tr>\n",
       "      <th>24101</th>\n",
       "      <td>2012-12-31</td>\n",
       "      <td>27.9</td>\n",
       "      <td>10.7</td>\n",
       "      <td>366</td>\n",
       "      <td>9.833333</td>\n",
       "    </tr>\n",
       "    <tr>\n",
       "      <th>24102</th>\n",
       "      <td>2016-12-31</td>\n",
       "      <td>0.0</td>\n",
       "      <td>3.4</td>\n",
       "      <td>366</td>\n",
       "      <td>9.833333</td>\n",
       "    </tr>\n",
       "    <tr>\n",
       "      <th>24103</th>\n",
       "      <td>2020-12-31</td>\n",
       "      <td>0.0</td>\n",
       "      <td>15.4</td>\n",
       "      <td>366</td>\n",
       "      <td>9.833333</td>\n",
       "    </tr>\n",
       "  </tbody>\n",
       "</table>\n",
       "<p>24104 rows × 5 columns</p>\n",
       "</div>"
      ],
      "text/plain": [
       "            DATE  PRCP  TAVG  day_index  TAVG_BASE\n",
       "0     1955-01-01   0.0   NaN          1  10.365385\n",
       "1     1956-01-01   0.0   NaN          1  10.365385\n",
       "2     1957-01-01   0.0   NaN          1  10.365385\n",
       "3     1958-01-01   0.0  12.1          1  10.365385\n",
       "4     1959-01-01   0.0   NaN          1  10.365385\n",
       "...          ...   ...   ...        ...        ...\n",
       "24099 2004-12-31   9.4   9.9        366   9.833333\n",
       "24100 2008-12-31   0.0   6.0        366   9.833333\n",
       "24101 2012-12-31  27.9  10.7        366   9.833333\n",
       "24102 2016-12-31   0.0   3.4        366   9.833333\n",
       "24103 2020-12-31   0.0  15.4        366   9.833333\n",
       "\n",
       "[24104 rows x 5 columns]"
      ]
     },
     "execution_count": 30,
     "metadata": {},
     "output_type": "execute_result"
    }
   ],
   "source": [
    "#Merges the dataframes New and Base on the day of year index\n",
    "ExtremeEvents= New.merge(base, left_on='day_index', right_on=base.index)\n",
    "\n",
    "#Renaming the columns\n",
    "ExtremeEvents=ExtremeEvents.rename(columns={\"TAVG_x\":\"TAVG\", \"TAVG_y\":\"TAVG_BASE\"})\n",
    "ExtremeEvents"
   ]
  },
  {
   "cell_type": "markdown",
   "id": "d2fe4e73",
   "metadata": {},
   "source": [
    "Then, we count how many daily temperatures exceed the base temperature beyond 10% for each year. "
   ]
  },
  {
   "cell_type": "code",
   "execution_count": 31,
   "id": "c4c0dad7",
   "metadata": {},
   "outputs": [
    {
     "data": {
      "text/plain": [
       "DATE\n",
       "1957     50\n",
       "1958    134\n",
       "1961    136\n",
       "1962    154\n",
       "1963    142\n",
       "       ... \n",
       "2016    158\n",
       "2017    169\n",
       "2018    168\n",
       "2019    159\n",
       "2020    174\n",
       "Name: TAVG, Length: 61, dtype: int64"
      ]
     },
     "execution_count": 31,
     "metadata": {},
     "output_type": "execute_result"
    }
   ],
   "source": [
    "#Counts the extreme events of each year\n",
    "ExtremeTemp=ExtremeEvents[ExtremeEvents.TAVG > ExtremeEvents.TAVG_BASE*1.1].groupby(ExtremeEvents.DATE.dt.year).count()['TAVG']\n",
    "ExtremeTemp"
   ]
  },
  {
   "cell_type": "markdown",
   "id": "ff93384c",
   "metadata": {},
   "source": [
    "Afterwards, we calculate the percentages of the extreme events for each year in the period 1955-2020."
   ]
  },
  {
   "cell_type": "code",
   "execution_count": 32,
   "id": "432b3177",
   "metadata": {},
   "outputs": [
    {
     "data": {
      "text/plain": [
       "DATE\n",
       "1955         NaN\n",
       "1956         NaN\n",
       "1957    0.271739\n",
       "1958    0.367123\n",
       "1959         NaN\n",
       "          ...   \n",
       "2016    0.431694\n",
       "2017    0.463014\n",
       "2018    0.460274\n",
       "2019    0.435616\n",
       "2020    0.475410\n",
       "Name: TAVG, Length: 66, dtype: float64"
      ]
     },
     "execution_count": 32,
     "metadata": {},
     "output_type": "execute_result"
    }
   ],
   "source": [
    "#Calculates the Percentages of extreme heat events\n",
    "Percentages=ExtremeTemp/obs.TAVG\n",
    "Percentages"
   ]
  },
  {
   "cell_type": "markdown",
   "id": "d445c0f7",
   "metadata": {},
   "source": [
    "Finally, we calculated the baseline percentage of extreme events as the average of the percentages of extreme events of the years 1974-1999."
   ]
  },
  {
   "cell_type": "code",
   "execution_count": 33,
   "id": "cb2da046",
   "metadata": {},
   "outputs": [
    {
     "data": {
      "text/plain": [
       "0.2481314415207134"
      ]
     },
     "execution_count": 33,
     "metadata": {},
     "output_type": "execute_result"
    }
   ],
   "source": [
    "#Calculates the average percentage of extreme events for the baseline period\n",
    "Baseline74_99=Percentages[Percentages.index.isin(lista74_99)].mean()\n",
    "Baseline74_99"
   ]
  },
  {
   "cell_type": "code",
   "execution_count": 34,
   "id": "2a463daa",
   "metadata": {},
   "outputs": [],
   "source": [
    "#Creating a list with colors in order to use them for the graph\n",
    "color2 = []\n",
    "\n",
    "for i in Percentages:\n",
    "    if i>=Baseline74_99:\n",
    "        color2.append(\"orange\")\n",
    "    else:\n",
    "        color2.append(\"blue\")\n",
    "        "
   ]
  },
  {
   "cell_type": "markdown",
   "id": "272dcd5d",
   "metadata": {},
   "source": [
    "## 4.2 Creating the Graph"
   ]
  },
  {
   "cell_type": "code",
   "execution_count": 35,
   "id": "2db89a28",
   "metadata": {},
   "outputs": [
    {
     "data": {
      "text/plain": [
       "<matplotlib.lines.Line2D at 0x23438469700>"
      ]
     },
     "execution_count": 35,
     "metadata": {},
     "output_type": "execute_result"
    },
    {
     "data": {
      "image/png": "[encoded data removed]",
      "text/plain": [
       "<Figure size 1080x720 with 1 Axes>"
      ]
     },
     "metadata": {},
     "output_type": "display_data"
    }
   ],
   "source": [
    "#Creating the plot and setting the size \n",
    "fig, ax=plt.subplots(figsize=(15,10))\n",
    "\n",
    "#Setting the number of bars\n",
    "lista55_20=list(range(1955,2020))\n",
    "categories=lista55_20\n",
    "\n",
    "#Filling the bars for each year\n",
    "ax.bar(Percentages.index,Percentages,width=0.2,color=color2)\n",
    "\n",
    "#Adding the Baseline \n",
    "ax.axhline(Baseline74_99,color='gray')"
   ]
  },
  {
   "cell_type": "markdown",
   "id": "36a22f7c",
   "metadata": {},
   "source": [
    "## 4.3 Interpretation of the Graph"
   ]
  },
  {
   "cell_type": "markdown",
   "id": "88e98221",
   "metadata": {},
   "source": [
    "From the above graph we can note an alarming increase in extreme heat events mainly after 1994. This can be an indicator for the effect of the global warming on the temperature in Greece. We can also observe that the period 1972-1993 the amount of extreme events is near or below the baseline. As we will see in the following chapter the sharp decrease in 2005 is due to the high amount of precipitation.  "
   ]
  },
  {
   "cell_type": "markdown",
   "id": "5c370fbb",
   "metadata": {},
   "source": [
    "#  5. Precipitation"
   ]
  },
  {
   "cell_type": "markdown",
   "id": "82733ac7",
   "metadata": {},
   "source": [
    "In this section, we will examine the precipitation over the years. Precipitation is the process behind the condensation of water vapour in the atmosphere that falls down under the influence of gravity. For this reason we will calculate the ratio of rainfall over rainy days over years. "
   ]
  },
  {
   "cell_type": "markdown",
   "id": "454a6474",
   "metadata": {},
   "source": [
    "## 5.1 Data Preparation"
   ]
  },
  {
   "cell_type": "markdown",
   "id": "2cee4b35",
   "metadata": {},
   "source": [
    "First, we will calculate the overall rainfall for each year. "
   ]
  },
  {
   "cell_type": "code",
   "execution_count": 36,
   "id": "fbd7189c",
   "metadata": {},
   "outputs": [
    {
     "data": {
      "text/plain": [
       "DATE\n",
       "1955    547.0\n",
       "1956    281.3\n",
       "1957    303.2\n",
       "1958    350.0\n",
       "1959    214.0\n",
       "        ...  \n",
       "2016    261.6\n",
       "2017    304.3\n",
       "2018    380.2\n",
       "2019    570.0\n",
       "2020    210.4\n",
       "Name: PRCP, Length: 66, dtype: float64"
      ]
     },
     "execution_count": 36,
     "metadata": {},
     "output_type": "execute_result"
    }
   ],
   "source": [
    "#Calculating the overall amount of rainfall per year\n",
    "OverallRain = FinalDF.groupby(FinalDF.DATE.dt.year).sum()['PRCP']\n",
    "OverallRain"
   ]
  },
  {
   "cell_type": "markdown",
   "id": "57118d3e",
   "metadata": {},
   "source": [
    "Then, we will calculate the number of rainy days for each year. A rainy day can be considered a day with precipitation (PRCP) higher than zero. "
   ]
  },
  {
   "cell_type": "code",
   "execution_count": 37,
   "id": "a0788c16",
   "metadata": {},
   "outputs": [
    {
     "data": {
      "text/html": [
       "<div>\n",
       "<style scoped>\n",
       "    .dataframe tbody tr th:only-of-type {\n",
       "        vertical-align: middle;\n",
       "    }\n",
       "\n",
       "    .dataframe tbody tr th {\n",
       "        vertical-align: top;\n",
       "    }\n",
       "\n",
       "    .dataframe thead th {\n",
       "        text-align: right;\n",
       "    }\n",
       "</style>\n",
       "<table border=\"1\" class=\"dataframe\">\n",
       "  <thead>\n",
       "    <tr style=\"text-align: right;\">\n",
       "      <th></th>\n",
       "      <th>DATE</th>\n",
       "      <th>PRCP</th>\n",
       "      <th>TAVG</th>\n",
       "    </tr>\n",
       "    <tr>\n",
       "      <th>DATE</th>\n",
       "      <th></th>\n",
       "      <th></th>\n",
       "      <th></th>\n",
       "    </tr>\n",
       "  </thead>\n",
       "  <tbody>\n",
       "    <tr>\n",
       "      <th>1955</th>\n",
       "      <td>68</td>\n",
       "      <td>68</td>\n",
       "      <td>0</td>\n",
       "    </tr>\n",
       "    <tr>\n",
       "      <th>1956</th>\n",
       "      <td>52</td>\n",
       "      <td>52</td>\n",
       "      <td>0</td>\n",
       "    </tr>\n",
       "    <tr>\n",
       "      <th>1957</th>\n",
       "      <td>73</td>\n",
       "      <td>73</td>\n",
       "      <td>37</td>\n",
       "    </tr>\n",
       "    <tr>\n",
       "      <th>1958</th>\n",
       "      <td>68</td>\n",
       "      <td>68</td>\n",
       "      <td>68</td>\n",
       "    </tr>\n",
       "    <tr>\n",
       "      <th>1959</th>\n",
       "      <td>62</td>\n",
       "      <td>62</td>\n",
       "      <td>0</td>\n",
       "    </tr>\n",
       "    <tr>\n",
       "      <th>...</th>\n",
       "      <td>...</td>\n",
       "      <td>...</td>\n",
       "      <td>...</td>\n",
       "    </tr>\n",
       "    <tr>\n",
       "      <th>2016</th>\n",
       "      <td>42</td>\n",
       "      <td>42</td>\n",
       "      <td>42</td>\n",
       "    </tr>\n",
       "    <tr>\n",
       "      <th>2017</th>\n",
       "      <td>48</td>\n",
       "      <td>48</td>\n",
       "      <td>48</td>\n",
       "    </tr>\n",
       "    <tr>\n",
       "      <th>2018</th>\n",
       "      <td>55</td>\n",
       "      <td>55</td>\n",
       "      <td>55</td>\n",
       "    </tr>\n",
       "    <tr>\n",
       "      <th>2019</th>\n",
       "      <td>58</td>\n",
       "      <td>58</td>\n",
       "      <td>58</td>\n",
       "    </tr>\n",
       "    <tr>\n",
       "      <th>2020</th>\n",
       "      <td>38</td>\n",
       "      <td>38</td>\n",
       "      <td>38</td>\n",
       "    </tr>\n",
       "  </tbody>\n",
       "</table>\n",
       "<p>66 rows × 3 columns</p>\n",
       "</div>"
      ],
      "text/plain": [
       "      DATE  PRCP  TAVG\n",
       "DATE                  \n",
       "1955    68    68     0\n",
       "1956    52    52     0\n",
       "1957    73    73    37\n",
       "1958    68    68    68\n",
       "1959    62    62     0\n",
       "...    ...   ...   ...\n",
       "2016    42    42    42\n",
       "2017    48    48    48\n",
       "2018    55    55    55\n",
       "2019    58    58    58\n",
       "2020    38    38    38\n",
       "\n",
       "[66 rows x 3 columns]"
      ]
     },
     "execution_count": 37,
     "metadata": {},
     "output_type": "execute_result"
    }
   ],
   "source": [
    "#Calculating the number of Rainy Days per year\n",
    "RainyDays=FinalDF[FinalDF.PRCP > 0].groupby(FinalDF.DATE.dt.year).count()\n",
    "RainyDays"
   ]
  },
  {
   "cell_type": "markdown",
   "id": "2dd228cb",
   "metadata": {},
   "source": [
    "In order to get an indication of whether we are getting rain in more concentrated bursts we calculated the ratio of the rainfall over rainy days over years.This ratio is calculated by dividing the rainfall by the number of rainy days. "
   ]
  },
  {
   "cell_type": "code",
   "execution_count": 38,
   "id": "9d174251",
   "metadata": {},
   "outputs": [
    {
     "data": {
      "text/plain": [
       "DATE\n",
       "1955    8.044118\n",
       "1956    5.409615\n",
       "1957    4.153425\n",
       "1958    5.147059\n",
       "1959    3.451613\n",
       "          ...   \n",
       "2016    6.228571\n",
       "2017    6.339583\n",
       "2018    6.912727\n",
       "2019    9.827586\n",
       "2020    5.536842\n",
       "Name: PRCP, Length: 66, dtype: float64"
      ]
     },
     "execution_count": 38,
     "metadata": {},
     "output_type": "execute_result"
    }
   ],
   "source": [
    "#Calculating the Rainfall ratio\n",
    "RainRatio=OverallRain/RainyDays.PRCP\n",
    "RainRatio"
   ]
  },
  {
   "cell_type": "markdown",
   "id": "d885ff19",
   "metadata": {},
   "source": [
    "In order to smooth the graph below we calculated the rain ratio as a 10 years rolling average. For the years that we can not calculate 10 years before we used the convention of min periods = 1 so that an average of less than 10 years can be calculated for years 1955-1965. "
   ]
  },
  {
   "cell_type": "code",
   "execution_count": 39,
   "id": "1ceb4772",
   "metadata": {},
   "outputs": [
    {
     "data": {
      "text/plain": [
       "DATE\n",
       "1955    8.044118\n",
       "1956    6.726867\n",
       "1957    5.869053\n",
       "1958    5.688554\n",
       "1959    5.241166\n",
       "          ...   \n",
       "2016    6.545994\n",
       "2017    6.623414\n",
       "2018    6.769177\n",
       "2019    7.214330\n",
       "2020    7.053591\n",
       "Name: PRCP, Length: 66, dtype: float64"
      ]
     },
     "execution_count": 39,
     "metadata": {},
     "output_type": "execute_result"
    }
   ],
   "source": [
    "#Smoothing the Rain Ratio using the 10 year rolling average. \n",
    "#For years that we can not calculate 10 years before we used the convention of min periods =1 \n",
    "Rratio=RainRatio.rolling(10,min_periods=1).mean()\n",
    "Rratio"
   ]
  },
  {
   "cell_type": "markdown",
   "id": "8f3a5f09",
   "metadata": {},
   "source": [
    "## 5.2 Creating the Graph"
   ]
  },
  {
   "cell_type": "code",
   "execution_count": 40,
   "id": "10fdc995",
   "metadata": {},
   "outputs": [
    {
     "data": {
      "text/plain": [
       "[<matplotlib.lines.Line2D at 0x2343831f850>]"
      ]
     },
     "execution_count": 40,
     "metadata": {},
     "output_type": "execute_result"
    },
    {
     "data": {
      "image/png": "[encoded data removed]",
      "text/plain": [
       "<Figure size 1080x576 with 1 Axes>"
      ]
     },
     "metadata": {},
     "output_type": "display_data"
    }
   ],
   "source": [
    "#Constructing the plot \n",
    "\n",
    "#Set the size of the figure\n",
    "fig, ax=plt.subplots(figsize=(15,8))\n",
    "\n",
    "#Constructing a list with the years of the baseline so that we can set them as categories\n",
    "lista2=list(range(1955,2020))\n",
    "categories=lista2\n",
    "\n",
    "#Creating the bars and set the color as blue \n",
    "ax.bar(RainRatio.index,RainRatio,width=0.2,color='blue')\n",
    "\n",
    "#Plotting the line of the ratio with a steelblue color \n",
    "ax.plot(Rratio.index,Rratio,color='steelblue')"
   ]
  },
  {
   "cell_type": "markdown",
   "id": "22133df0",
   "metadata": {},
   "source": [
    "## 5.3 Interpretation of the Graph"
   ]
  },
  {
   "cell_type": "markdown",
   "id": "3fd1dd46",
   "metadata": {},
   "source": [
    "From the above graph we can gain some useful insight. First of all, looking at the 10 years rolling average rainfall ratio line, it is noticable that the precipitation has an increasing trend over years. \n",
    "From the above graph it is noticeable that the rainfall ratio remained relative steady and below the scale of 8 during the period 1955-2018, but it reached a local peak above the scale of 14 in 2005 which was the year with the most concentrated bursts on record. The second highest concentrated rainfall was observed in 2019. At the end, if we look back at the previous graphs of this report we can highlight that the temperatures during 2005 were extremely lower than the average temperatures of the rest period. Therefore, the low temperatures in the aforementioned year can be explained by the many precipitations."
   ]
  }
 ],
 "metadata": {
  "kernelspec": {
   "display_name": "Python 3 (ipykernel)",
   "language": "python",
   "name": "python3"
  },
  "language_info": {
   "codemirror_mode": {
    "name": "ipython",
    "version": 3
   },
   "file_extension": ".py",
   "mimetype": "text/x-python",
   "name": "python",
   "nbconvert_exporter": "python",
   "pygments_lexer": "ipython3",
   "version": "3.9.7"
  }
 },
 "nbformat": 4,
 "nbformat_minor": 5
}
